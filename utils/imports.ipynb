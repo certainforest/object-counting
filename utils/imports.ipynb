{
 "cells": [
  {
   "cell_type": "code",
   "execution_count": null,
   "id": "aba393be",
   "metadata": {},
   "outputs": [],
   "source": [
    "# choosing some well-performing open-weights models – we'll want some that fail + succeed\n",
    "# a reasonable amt. of times; ideally, we'll also see accuracy > random chance on at least some \n",
    "# models as that would indicate the model is actually doing the thing we care about."
   ]
  },
  {
   "cell_type": "code",
   "execution_count": 8,
   "id": "84da19aa",
   "metadata": {},
   "outputs": [],
   "source": [
    "import os\n",
    "from huggingface_hub import snapshot_download\n",
    "from transformers import AutoModelForCausalLM, AutoTokenizer\n",
    "\n",
    "PERSISTENT_MODEL_DIR = \"/workspace/models\"\n",
    "os.makedirs(PERSISTENT_MODEL_DIR, exist_ok = True)\n",
    "\n",
    "models = {\n",
    "    'qwen3-1.7b': 'Qwen/Qwen3-1.7B',\n",
    "    'qwen3-4b': 'Qwen/Qwen3-4B',\n",
    "    'qwen3-8b': 'Qwen/Qwen3-8B',\n",
    "    'qwen3-14b': 'Qwen/Qwen3-14B',\n",
    "    # 'gemma2b-it': 'google/gemma-2b-it'\n",
    "    'phi-3-mini-4k': 'microsoft/Phi-3-mini-4k-instruct'\n",
    "}\n",
    "\n",
    "model_paths = models.values()"
   ]
  },
  {
   "cell_type": "code",
   "execution_count": 9,
   "id": "6773062e",
   "metadata": {},
   "outputs": [
    {
     "name": "stdout",
     "output_type": "stream",
     "text": [
      "Model already exists at /workspace/models/Qwen3-1.7B\n",
      "Model already exists at /workspace/models/Qwen3-4B\n",
      "Model already exists at /workspace/models/Qwen3-8B\n",
      "Model already exists at /workspace/models/Qwen3-14B\n",
      "Downloading microsoft/Phi-3-mini-4k-instruct to /workspace/models/Phi-3-mini-4k-instruct...\n"
     ]
    },
    {
     "data": {
      "application/vnd.jupyter.widget-view+json": {
       "model_id": "2c8a02d5fba248b5804eaab61a306582",
       "version_major": 2,
       "version_minor": 0
      },
      "text/plain": [
       "Fetching 19 files:   0%|          | 0/19 [00:00<?, ?it/s]"
      ]
     },
     "metadata": {},
     "output_type": "display_data"
    },
    {
     "data": {
      "application/vnd.jupyter.widget-view+json": {
       "model_id": "d5f9f0a33ba04d8f9476ff0c4822fdd6",
       "version_major": 2,
       "version_minor": 0
      },
      "text/plain": [
       "CODE_OF_CONDUCT.md:   0%|          | 0.00/453 [00:00<?, ?B/s]"
      ]
     },
     "metadata": {},
     "output_type": "display_data"
    },
    {
     "data": {
      "application/vnd.jupyter.widget-view+json": {
       "model_id": "ae464b01f7e84881903feeb675cc846c",
       "version_major": 2,
       "version_minor": 0
      },
      "text/plain": [
       "README.md:   0%|          | 0.00/21.6k [00:00<?, ?B/s]"
      ]
     },
     "metadata": {},
     "output_type": "display_data"
    },
    {
     "data": {
      "application/vnd.jupyter.widget-view+json": {
       "model_id": "d806b285d8764b13b324ea9502b4f3dd",
       "version_major": 2,
       "version_minor": 0
      },
      "text/plain": [
       "NOTICE.md:   0%|          | 0.00/1.81k [00:00<?, ?B/s]"
      ]
     },
     "metadata": {},
     "output_type": "display_data"
    },
    {
     "data": {
      "application/vnd.jupyter.widget-view+json": {
       "model_id": "5d9d8fb7e4a54996875a88c0b3cb0607",
       "version_major": 2,
       "version_minor": 0
      },
      "text/plain": [
       "added_tokens.json:   0%|          | 0.00/306 [00:00<?, ?B/s]"
      ]
     },
     "metadata": {},
     "output_type": "display_data"
    },
    {
     "data": {
      "application/vnd.jupyter.widget-view+json": {
       "model_id": "fdace25cd1fe4753b5643ff752792846",
       "version_major": 2,
       "version_minor": 0
      },
      "text/plain": [
       "LICENSE:   0%|          | 0.00/1.10k [00:00<?, ?B/s]"
      ]
     },
     "metadata": {},
     "output_type": "display_data"
    },
    {
     "data": {
      "application/vnd.jupyter.widget-view+json": {
       "model_id": "be4cf77bd9aa4c2f99d07d22edea9482",
       "version_major": 2,
       "version_minor": 0
      },
      "text/plain": [
       ".gitattributes:   0%|          | 0.00/1.55k [00:00<?, ?B/s]"
      ]
     },
     "metadata": {},
     "output_type": "display_data"
    },
    {
     "data": {
      "application/vnd.jupyter.widget-view+json": {
       "model_id": "fc4c198e10de41dbac5cf1164d1fc538",
       "version_major": 2,
       "version_minor": 0
      },
      "text/plain": [
       "config.json:   0%|          | 0.00/967 [00:00<?, ?B/s]"
      ]
     },
     "metadata": {},
     "output_type": "display_data"
    },
    {
     "data": {
      "application/vnd.jupyter.widget-view+json": {
       "model_id": "f3607796a8c24070a5fd3d54220eb83d",
       "version_major": 2,
       "version_minor": 0
      },
      "text/plain": [
       "SECURITY.md:   0%|          | 0.00/2.70k [00:00<?, ?B/s]"
      ]
     },
     "metadata": {},
     "output_type": "display_data"
    },
    {
     "data": {
      "application/vnd.jupyter.widget-view+json": {
       "model_id": "4ac86c217d4c4f6cabd53981c6b504f2",
       "version_major": 2,
       "version_minor": 0
      },
      "text/plain": [
       "model-00002-of-00002.safetensors:   0%|          | 0.00/2.67G [00:00<?, ?B/s]"
      ]
     },
     "metadata": {},
     "output_type": "display_data"
    },
    {
     "data": {
      "application/vnd.jupyter.widget-view+json": {
       "model_id": "93b5328311d64c82bf6879a0f0459f3c",
       "version_major": 2,
       "version_minor": 0
      },
      "text/plain": [
       "configuration_phi3.py:   0%|          | 0.00/11.2k [00:00<?, ?B/s]"
      ]
     },
     "metadata": {},
     "output_type": "display_data"
    },
    {
     "data": {
      "application/vnd.jupyter.widget-view+json": {
       "model_id": "38306346a2fe44aa8d0750d5b87a1f9d",
       "version_major": 2,
       "version_minor": 0
      },
      "text/plain": [
       "generation_config.json:   0%|          | 0.00/181 [00:00<?, ?B/s]"
      ]
     },
     "metadata": {},
     "output_type": "display_data"
    },
    {
     "data": {
      "application/vnd.jupyter.widget-view+json": {
       "model_id": "1f5e321ef36a4d2fbe5cabb849a0ed6b",
       "version_major": 2,
       "version_minor": 0
      },
      "text/plain": [
       "modeling_phi3.py:   0%|          | 0.00/73.2k [00:00<?, ?B/s]"
      ]
     },
     "metadata": {},
     "output_type": "display_data"
    },
    {
     "data": {
      "application/vnd.jupyter.widget-view+json": {
       "model_id": "f7cdaf24193f4dd980776893a70a8ed4",
       "version_major": 2,
       "version_minor": 0
      },
      "text/plain": [
       "sample_finetune.py:   0%|          | 0.00/6.40k [00:00<?, ?B/s]"
      ]
     },
     "metadata": {},
     "output_type": "display_data"
    },
    {
     "data": {
      "application/vnd.jupyter.widget-view+json": {
       "model_id": "2b5b0d9f5aae4fd88a1184c4ff5ed70a",
       "version_major": 2,
       "version_minor": 0
      },
      "text/plain": [
       "model.safetensors.index.json:   0%|          | 0.00/16.5k [00:00<?, ?B/s]"
      ]
     },
     "metadata": {},
     "output_type": "display_data"
    },
    {
     "data": {
      "application/vnd.jupyter.widget-view+json": {
       "model_id": "8803ecc326e0459a83d2e8bf926c7c89",
       "version_major": 2,
       "version_minor": 0
      },
      "text/plain": [
       "tokenizer.model:   0%|          | 0.00/500k [00:00<?, ?B/s]"
      ]
     },
     "metadata": {},
     "output_type": "display_data"
    },
    {
     "data": {
      "application/vnd.jupyter.widget-view+json": {
       "model_id": "f9f2cfd8cc6a48a7867e3689b1b1a87a",
       "version_major": 2,
       "version_minor": 0
      },
      "text/plain": [
       "special_tokens_map.json:   0%|          | 0.00/599 [00:00<?, ?B/s]"
      ]
     },
     "metadata": {},
     "output_type": "display_data"
    },
    {
     "data": {
      "application/vnd.jupyter.widget-view+json": {
       "model_id": "d67ec5762d824aa9afa196f35b4332f7",
       "version_major": 2,
       "version_minor": 0
      },
      "text/plain": [
       "tokenizer.json:   0%|          | 0.00/1.94M [00:00<?, ?B/s]"
      ]
     },
     "metadata": {},
     "output_type": "display_data"
    },
    {
     "data": {
      "application/vnd.jupyter.widget-view+json": {
       "model_id": "0103400554a246bebee56e34b4dd78de",
       "version_major": 2,
       "version_minor": 0
      },
      "text/plain": [
       "tokenizer_config.json:   0%|          | 0.00/3.44k [00:00<?, ?B/s]"
      ]
     },
     "metadata": {},
     "output_type": "display_data"
    },
    {
     "data": {
      "application/vnd.jupyter.widget-view+json": {
       "model_id": "49766c48bb3344f08aa10514b7358d7e",
       "version_major": 2,
       "version_minor": 0
      },
      "text/plain": [
       "model-00001-of-00002.safetensors:   0%|          | 0.00/4.97G [00:00<?, ?B/s]"
      ]
     },
     "metadata": {},
     "output_type": "display_data"
    }
   ],
   "source": [
    "# download models \n",
    "for path in model_paths: \n",
    "    model_dir = os.path.join(PERSISTENT_MODEL_DIR, path.split(\"/\")[-1])\n",
    "\n",
    "    if not os.path.exists(model_dir):\n",
    "        print(f\"Downloading {path} to {model_dir}...\")\n",
    "        snapshot_download(\n",
    "            repo_id=path,\n",
    "            local_dir=model_dir\n",
    "        )\n",
    "    else:\n",
    "        print(f\"Model already exists at {model_dir}\")"
   ]
  },
  {
   "cell_type": "code",
   "execution_count": null,
   "id": "780268ef",
   "metadata": {},
   "outputs": [],
   "source": [
    "# load\n",
    "# tokenizer = AutoTokenizer.from_pretrained(model_dir, trust_remote_code = True)\n",
    "# model = AutoModelForCausalLM.from_pretrained(model_dir, trust_remote_code = True)"
   ]
  }
 ],
 "metadata": {
  "kernelspec": {
   "display_name": ".venv",
   "language": "python",
   "name": "python3"
  },
  "language_info": {
   "codemirror_mode": {
    "name": "ipython",
    "version": 3
   },
   "file_extension": ".py",
   "mimetype": "text/x-python",
   "name": "python",
   "nbconvert_exporter": "python",
   "pygments_lexer": "ipython3",
   "version": "3.12.10"
  }
 },
 "nbformat": 4,
 "nbformat_minor": 5
}
