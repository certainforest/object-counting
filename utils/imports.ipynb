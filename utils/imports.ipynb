{
 "cells": [
  {
   "cell_type": "code",
   "execution_count": null,
   "id": "aba393be",
   "metadata": {},
   "outputs": [],
   "source": [
    "# choosing some well-performing open-weights models – we'll want some that fail + succeed\n",
    "# a reasonable amt. of times; ideally, we'll also see accuracy > random chance on at least some \n",
    "# models as that would indicate the model is actually doing the thing we care about."
   ]
  },
  {
   "cell_type": "code",
   "execution_count": null,
   "id": "84da19aa",
   "metadata": {},
   "outputs": [],
   "source": [
    "import os\n",
    "from huggingface_hub import snapshot_download\n",
    "from transformers import AutoModelForCausalLM, AutoTokenizer\n",
    "\n",
    "PERSISTENT_MODEL_DIR = \"/workspace/models\"\n",
    "os.makedirs(PERSISTENT_MODEL_DIR, exist_ok = True)\n",
    "\n",
    "models = {\n",
    "    'qwen3-1.7b': 'Qwen/Qwen3-1.7B',\n",
    "    'qwen3-4b': 'Qwen/Qwen3-4B',\n",
    "    'qwen3-8b': 'Qwen/Qwen3-8B',\n",
    "    'qwen3-14b': 'Qwen/Qwen3-14B',\n",
    "    # 'gemma2b-it': 'google/gemma-2b-it'\n",
    "    'phi-3-mini-4k': 'microsoft/Phi-3-mini-4k-instruct'\n",
    "}\n",
    "\n",
    "model_paths = models.values()"
   ]
  },
  {
   "cell_type": "code",
   "execution_count": null,
   "id": "6773062e",
   "metadata": {},
   "outputs": [],
   "source": [
    "# download models \n",
    "for path in model_paths: \n",
    "    model_dir = os.path.join(PERSISTENT_MODEL_DIR, path.split(\"/\")[-1])\n",
    "\n",
    "    if not os.path.exists(model_dir):\n",
    "        print(f\"Downloading {path} to {model_dir}...\")\n",
    "        snapshot_download(\n",
    "            repo_id=path,\n",
    "            local_dir=model_dir\n",
    "        )\n",
    "    else:\n",
    "        print(f\"Model already exists at {model_dir}\")"
   ]
  },
  {
   "cell_type": "code",
   "execution_count": null,
   "id": "780268ef",
   "metadata": {},
   "outputs": [],
   "source": [
    "# load\n",
    "# tokenizer = AutoTokenizer.from_pretrained(model_dir, trust_remote_code = True)\n",
    "# model = AutoModelForCausalLM.from_pretrained(model_dir, trust_remote_code = True)"
   ]
  }
 ],
 "metadata": {
  "kernelspec": {
   "display_name": ".venv",
   "language": "python",
   "name": "python3"
  },
  "language_info": {
   "codemirror_mode": {
    "name": "ipython",
    "version": 3
   },
   "file_extension": ".py",
   "mimetype": "text/x-python",
   "name": "python",
   "nbconvert_exporter": "python",
   "pygments_lexer": "ipython3",
   "version": "3.12.10"
  }
 },
 "nbformat": 4,
 "nbformat_minor": 5
}
