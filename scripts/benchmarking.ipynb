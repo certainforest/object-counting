{
 "cells": [
  {
   "cell_type": "code",
   "execution_count": null,
   "id": "65e1d8ea",
   "metadata": {},
   "outputs": [],
   "source": [
    "# testing to see if models are capable of counting task \n",
    "# w/ performance > random chance\n",
    "import pandas as pd\n",
    "import torch\n",
    "import os \n",
    "from transformers import AutoModelForCausalLM, AutoTokenizer\n",
    "import sys\n",
    "sys.path.append('..')\n",
    "from utils.evals import load_model\n",
    "\n",
    "if torch.cuda.is_available():\n",
    "    device = \"cuda\"\n",
    "elif torch.backends.mps.is_available():\n",
    "    device = \"mps\"\n",
    "else:\n",
    "    device = \"cpu\""
   ]
  },
  {
   "cell_type": "code",
   "execution_count": null,
   "id": "d2d7b23b",
   "metadata": {},
   "outputs": [],
   "source": [
    "PERSISTENT_MODEL_DIR = \"/workspace/models\"\n",
    "\n",
    "model_dirs = [\n",
    "    PERSISTENT_MODEL_DIR + '/Qwen3-1.7B',\n",
    "    PERSISTENT_MODEL_DIR + '/Qwen3-4B',\n",
    "    PERSISTENT_MODEL_DIR + '/Qwen3-8B',\n",
    "    PERSISTENT_MODEL_DIR + '/Qwen3-14B',\n",
    "    PERSISTENT_MODEL_DIR + '/Phi-3-mini-4k-instruct' # ideally, we'll later use this to check for generality\n",
    "]\n",
    "\n",
    "# import benchmarking dataset \n",
    "count_df = pd.read_csv()"
   ]
  },
  {
   "cell_type": "code",
   "execution_count": null,
   "id": "744f3942",
   "metadata": {},
   "outputs": [],
   "source": [
    "# evaluate performance for each model \n",
    "load_model(dir = model_dirs[0])"
   ]
  },
  {
   "cell_type": "code",
   "execution_count": null,
   "id": "7a7dc7b4",
   "metadata": {},
   "outputs": [],
   "source": [
    "# chance accuracy is expected prob. of a uniform random guess \n",
    "# being correct, averaged over dataset (since lists are of varying lengths)\n"
   ]
  },
  {
   "cell_type": "code",
   "execution_count": null,
   "id": "0ee087ae",
   "metadata": {},
   "outputs": [],
   "source": [
    "# plotting: performance across model family"
   ]
  }
 ],
 "metadata": {
  "kernelspec": {
   "display_name": ".venv",
   "language": "python",
   "name": "python3"
  },
  "language_info": {
   "codemirror_mode": {
    "name": "ipython",
    "version": 3
   },
   "file_extension": ".py",
   "mimetype": "text/x-python",
   "name": "python",
   "nbconvert_exporter": "python",
   "pygments_lexer": "ipython3",
   "version": "3.12.10"
  }
 },
 "nbformat": 4,
 "nbformat_minor": 5
}
