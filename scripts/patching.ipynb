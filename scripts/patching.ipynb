{
 "cells": [
  {
   "cell_type": "code",
   "execution_count": null,
   "id": "c630b279",
   "metadata": {},
   "outputs": [],
   "source": [
    "# causal mediation task – could think about patching across model family"
   ]
  }
 ],
 "metadata": {
  "language_info": {
   "name": "python"
  }
 },
 "nbformat": 4,
 "nbformat_minor": 5
}
